{
 "cells": [
  {
   "cell_type": "code",
   "execution_count": null,
   "id": "bebeaba5-0e47-4ad1-9a8c-eb4c4464d093",
   "metadata": {},
   "outputs": [],
   "source": [
    "%matplotlib inline \n",
    "import numpy as np \n",
    "import pandas as pd \n",
    "import matplotlib.pyplot as plt"
   ]
  },
  {
   "cell_type": "code",
   "execution_count": null,
   "id": "c02e39a2-9992-4e82-a406-2d8641c9c3b5",
   "metadata": {},
   "outputs": [],
   "source": [
    "def initialization(file):\n",
    "    data = pd.read_csv(file)\n",
    "    rwdata  = np.array(data)\n",
    "    train_set  = (((rwdata.T)[1:]).T)/255\n",
    "    label_set = (rwdata.T)[0]\n",
    "    return label_set , train_set\n",
    "label_set , train_set = initialization(\"mnist_test.csv\")\n",
    "m = label_set.shape[0]\n",
    "def oned_set(Y):\n",
    "    one_hot_Y = np.zeros((Y.size, Y.max() + 1))\n",
    "    one_hot_Y[np.arange(Y.size), Y] = 1\n",
    "    return one_hot_Y.T\n"
   ]
  },
  {
   "cell_type": "code",
   "execution_count": null,
   "id": "6faecc90-d96e-4f5b-865a-812a1532b55e",
   "metadata": {},
   "outputs": [],
   "source": [
    "def Activ(x):\n",
    "    return np.maximum(x, 0)\n",
    "def Activd(x):\n",
    "    return x > 0"
   ]
  },
  {
   "cell_type": "code",
   "execution_count": null,
   "id": "263fe2f3-d757-4db6-9d8d-5aeaf2724ab4",
   "metadata": {},
   "outputs": [],
   "source": [
    "def SoftMaxx(Z):\n",
    "    A = np.exp(Z) / sum(np.exp(Z))\n",
    "    return A"
   ]
  },
  {
   "cell_type": "code",
   "execution_count": null,
   "id": "a842ed55-d8f0-491d-8d27-0e0c7f05160d",
   "metadata": {},
   "outputs": [],
   "source": [
    "def initial_conditions():\n",
    "    w0 = np.random.rand(16, 784).astype(np.float64) - .5\n",
    "    b0 = np.random.rand(16, 1).astype(np.float64)  - .5\n",
    "    w1 = np.random.rand(10, 16).astype(np.float64) - .5\n",
    "    b1 = np.random.rand(10, 1).astype(np.float64) - .5\n",
    "    return w0, b0, w1, b1"
   ]
  },
  {
   "cell_type": "code",
   "execution_count": null,
   "id": "37888a7a-c225-494c-8105-efee232a573d",
   "metadata": {},
   "outputs": [],
   "source": [
    "def forward_propagation(train_set, w0, b0, w1, b1):\n",
    "    z0 = w0.dot(train_set) + b0  # 16xm\n",
    "    a1 = Activ(z0) \n",
    "    z1 = w1.dot(a1) + b1 #10xm\n",
    "    a2 = SoftMaxx(z1)\n",
    "    return z0, a1, z1, a2"
   ]
  },
  {
   "cell_type": "code",
   "execution_count": null,
   "id": "84476451-8b03-48e4-ad15-ecda593edd0f",
   "metadata": {},
   "outputs": [],
   "source": [
    "def Costfun(a2, label_set):\n",
    "    Y = oned_set(label_set)\n",
    "    cost_ar = (a2 - Y)\n",
    "    return cost_ar"
   ]
  },
  {
   "cell_type": "code",
   "execution_count": null,
   "id": "6c9fbe70-cc39-4878-a4ea-dcf6a533572f",
   "metadata": {},
   "outputs": [],
   "source": [
    "def back_propagation(z0, a1, z1, cost, train_set):\n",
    "    dz1  = 2*cost\n",
    "    dw1 = 1 / m *((dz1).dot(a1.T)) \n",
    "    db1 = 1 / m * (np.sum(dz1))\n",
    "    dz0 = ((dz1.T).dot(w1)).T *Activd(z0)\n",
    "    dw0 = 1 / m * (dz0).dot(train_set.T)\n",
    "    db0 = 1 / m * np.sum(dz0)\n",
    "    return dw0, db0, dw1, db1"
   ]
  },
  {
   "cell_type": "code",
   "execution_count": null,
   "id": "dd5e5b08-b571-4bcf-9005-6f59b6c80b55",
   "metadata": {},
   "outputs": [],
   "source": [
    "def updation(w0, b0, w1, b1, dw0, db0, dw1, db1, a):\n",
    "    w0 = w0 - a*dw0\n",
    "    w1 = w1 - a*dw1\n",
    "    b0 = b0 - a*db0\n",
    "    b1 = b1 - a*db1\n",
    "    return w0, w1, b0, b1"
   ]
  },
  {
   "cell_type": "code",
   "execution_count": null,
   "id": "83dff3e4-c90f-4ee4-975b-130ad53e2c37",
   "metadata": {},
   "outputs": [],
   "source": [
    "w0, b0, w1, b1, = initial_conditions()"
   ]
  },
  {
   "cell_type": "code",
   "execution_count": null,
   "id": "1997f1e8-76c9-4639-8b19-9916325aaf10",
   "metadata": {},
   "outputs": [],
   "source": [
    "def get_accuracy(Y, pred):\n",
    "    return np.sum(pred == Y) / Y.size * 100    "
   ]
  },
  {
   "cell_type": "code",
   "execution_count": null,
   "id": "6c51f7e9-f151-474c-b5cb-60c59b871122",
   "metadata": {},
   "outputs": [],
   "source": [
    "def training(w0, b0, w1, b1, iterations, alpha):    \n",
    "    label_set , train_set = initialization(\"mnist_train.csv\")\n",
    "    train_set = train_set.T\n",
    "    for j in range(iterations): \n",
    "        z0, a1, z1, ou = forward_propagation(train_set, w0, b0, w1, b1)\n",
    "        cost_ar = Costfun(ou, label_set)\n",
    "        dw0, db0, dw1, db1 = back_propagation( z0, a1, z1, cost_ar, train_set)\n",
    "        w0, w1, b0, b1 =  updation(w0, b0, w1, b1, dw0, db0, dw1, db1, alpha)\n",
    "        pred_array = (np.argmax(ou, 0))\n",
    "        if (j % 10 == 0):\n",
    "            print(\"Iteration \" , j)\n",
    "            print(get_accuracy(label_set, pred_array))\n",
    "            print(pred_array , label_set)\n",
    "    return pred_array , w0, b0, w1, b1\n"
   ]
  },
  {
   "cell_type": "code",
   "execution_count": null,
   "id": "31987239-928c-4b60-a50d-13d1b94f3b2b",
   "metadata": {},
   "outputs": [
    {
     "name": "stdout",
     "output_type": "stream",
     "text": [
      "Iteration  0\n",
      "88.06813446890781\n",
      "[0 4 1 ... 5 2 8] [0 4 1 ... 5 6 8]\n",
      "Iteration  10\n",
      "23.15871931198853\n",
      "[0 7 5 ... 5 0 5] [0 4 1 ... 5 6 8]\n",
      "Iteration  20\n",
      "50.32917215286922\n",
      "[0 4 4 ... 5 0 5] [0 4 1 ... 5 6 8]\n",
      "Iteration  30\n",
      "62.95604926748779\n",
      "[0 4 1 ... 5 0 5] [0 4 1 ... 5 6 8]\n",
      "Iteration  40\n",
      "71.37452290871515\n",
      "[0 4 1 ... 5 0 5] [0 4 1 ... 5 6 8]\n",
      "Iteration  50\n",
      "75.06958449307488\n",
      "[0 4 1 ... 8 0 5] [0 4 1 ... 5 6 8]\n",
      "Iteration  60\n",
      "77.7462957715962\n",
      "[0 4 1 ... 8 0 8] [0 4 1 ... 5 6 8]\n",
      "Iteration  70\n",
      "76.38960649344155\n",
      "[0 4 1 ... 5 0 5] [0 4 1 ... 5 6 8]\n",
      "Iteration  80\n",
      "75.95459924332071\n",
      "[0 4 1 ... 8 0 8] [0 4 1 ... 5 6 8]\n",
      "Iteration  90\n",
      "82.08303471724528\n",
      "[0 4 1 ... 5 0 5] [0 4 1 ... 5 6 8]\n",
      "Iteration  100\n",
      "73.31788863147719\n",
      "[0 4 1 ... 5 0 0] [0 4 1 ... 5 6 8]\n",
      "Iteration  110\n",
      "83.59472657877632\n",
      "[0 4 1 ... 5 0 5] [0 4 1 ... 5 6 8]\n",
      "Iteration  120\n",
      "81.20135335588927\n",
      "[0 4 1 ... 5 0 5] [0 4 1 ... 5 6 8]\n",
      "Iteration  130\n",
      "86.47477457957633\n",
      "[0 4 1 ... 5 0 8] [0 4 1 ... 5 6 8]\n",
      "Iteration  140\n",
      "81.46635777262954\n",
      "[0 4 1 ... 5 0 5] [0 4 1 ... 5 6 8]\n",
      "Iteration  150\n",
      "87.2997883298055\n",
      "[0 4 1 ... 5 0 8] [0 4 1 ... 5 6 8]\n",
      "Iteration  160\n",
      "87.01478357972633\n",
      "[0 4 1 ... 5 0 8] [0 4 1 ... 5 6 8]\n",
      "Iteration  170\n",
      "81.4563576059601\n",
      "[0 4 1 ... 8 0 8] [0 4 1 ... 5 6 8]\n",
      "Iteration  180\n",
      "88.57980966349439\n",
      "[0 4 1 ... 5 0 8] [0 4 1 ... 5 6 8]\n",
      "Iteration  190\n",
      "82.13636893948232\n",
      "[0 4 1 ... 5 0 5] [0 4 1 ... 5 6 8]\n",
      "Iteration  200\n",
      "88.90148169136152\n",
      "[0 4 1 ... 5 0 8] [0 4 1 ... 5 6 8]\n",
      "Iteration  210\n",
      "87.69646160769346\n",
      "[0 4 1 ... 5 0 8] [0 4 1 ... 5 6 8]\n",
      "Iteration  220\n",
      "85.49309155152585\n",
      "[0 4 1 ... 5 0 8] [0 4 1 ... 5 6 8]\n",
      "Iteration  230\n",
      "89.6831613860231\n",
      "[0 4 1 ... 5 0 8] [0 4 1 ... 5 6 8]\n",
      "Iteration  240\n",
      "89.83483058050967\n",
      "[0 4 1 ... 5 0 8] [0 4 1 ... 5 6 8]\n",
      "Iteration  250\n",
      "78.77797963299389\n",
      "[0 4 1 ... 5 0 8] [0 4 1 ... 5 6 8]\n",
      "Iteration  260\n",
      "86.7614460241004\n",
      "[0 4 1 ... 5 6 8] [0 4 1 ... 5 6 8]\n",
      "Iteration  270\n",
      "90.19483658060967\n",
      "[0 4 1 ... 5 6 8] [0 4 1 ... 5 6 8]\n",
      "Iteration  280\n",
      "86.68477807963467\n",
      "[0 4 1 ... 5 6 5] [0 4 1 ... 5 6 8]\n",
      "Iteration  290\n",
      "90.55484258070969\n",
      "[0 4 1 ... 5 6 8] [0 4 1 ... 5 6 8]\n",
      "Iteration  300\n",
      "90.75317921965366\n",
      "[0 4 1 ... 5 6 8] [0 4 1 ... 5 6 8]\n",
      "Iteration  310\n",
      "81.9296988283138\n",
      "[0 4 1 ... 5 6 8] [0 4 1 ... 5 6 8]\n",
      "Iteration  320\n",
      "90.72651210853515\n",
      "[0 4 1 ... 5 6 8] [0 4 1 ... 5 6 8]\n",
      "Iteration  330\n",
      "90.95484924748746\n",
      "[0 4 1 ... 5 6 8] [0 4 1 ... 5 6 8]\n",
      "Iteration  340\n",
      "89.43315721928698\n",
      "[0 4 1 ... 5 6 8] [0 4 1 ... 5 6 8]\n",
      "Iteration  350\n",
      "90.64817746962449\n",
      "[0 4 1 ... 5 6 8] [0 4 1 ... 5 6 8]\n",
      "Iteration  360\n",
      "82.58637643960732\n",
      "[0 4 1 ... 5 6 5] [0 4 1 ... 5 6 8]\n",
      "Iteration  370\n",
      "91.20652010866847\n",
      "[0 4 1 ... 5 6 8] [0 4 1 ... 5 6 8]\n",
      "Iteration  380\n",
      "78.45797429957166\n",
      "[0 4 1 ... 5 6 5] [0 4 1 ... 5 6 8]\n",
      "Iteration  390\n",
      "91.32652210870181\n",
      "[0 4 1 ... 5 6 8] [0 4 1 ... 5 6 8]\n",
      "Iteration  400\n",
      "91.51652527542126\n",
      "[0 4 1 ... 5 6 8] [0 4 1 ... 5 6 8]\n"
     ]
    }
   ],
   "source": [
    "pred_array , w0, b0, w1, b1  = training(w0, b0, w1, b1, 401, 0.1)"
   ]
  },
  {
   "cell_type": "code",
   "execution_count": null,
   "id": "ac2a285c-c8bf-446a-9514-8a9a1400a7b7",
   "metadata": {},
   "outputs": [],
   "source": []
  }
 ],
 "metadata": {
  "kernelspec": {
   "display_name": "Python 3 (ipykernel)",
   "language": "python",
   "name": "python3"
  },
  "language_info": {
   "codemirror_mode": {
    "name": "ipython",
    "version": 3
   },
   "file_extension": ".py",
   "mimetype": "text/x-python",
   "name": "python",
   "nbconvert_exporter": "python",
   "pygments_lexer": "ipython3",
   "version": "3.12.0"
  }
 },
 "nbformat": 4,
 "nbformat_minor": 5
}
